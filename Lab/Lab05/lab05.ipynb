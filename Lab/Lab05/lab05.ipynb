{
 "cells": [
  {
   "cell_type": "markdown",
   "metadata": {
    "id": "vnjzfIYiwq2E"
   },
   "source": [
    "# CÁC MÔ HÌNH PHÂN LỚP VÀ PHƯƠNG PHÁP ĐÁNH GIÁ"
   ]
  },
  {
   "cell_type": "markdown",
   "metadata": {
    "id": "JGDzf_6obu2F"
   },
   "source": [
    "Chào mừng bạn đến với Jupyter Notebook này! Trong hướng dẫn này, chúng ta sẽ khám phá nhiều mô hình phân loại khác nhau và đánh giá hiệu suất của từng mô hình bằng cách sử dụng bộ dữ liệu về ung thư vú từ thư viện `scikit-learn`. Mục tiêu của chúng ta là tìm hiểu cách sử dụng các chỉ số như độ chính xác (accuracy), độ chính xác của dự đoán dương (precision), độ chính xác của dự đoán âm (recall), điểm F1 (F1 score), và ma trận nhầm lẫn (confusion matrix) để đánh giá độ chính xác và hiệu suất của các mô hình phân loại.\n",
    "\n",
    "Hãy cùng bắt đầu hành trình khám phá các mô hình và đánh giá chúng!"
   ]
  },
  {
   "cell_type": "markdown",
   "metadata": {
    "id": "w1j-xbBCjlD0"
   },
   "source": [
    "### 1. Tải dữ liệu"
   ]
  },
  {
   "cell_type": "markdown",
   "metadata": {
    "id": "o0zgoOlgcbIc"
   },
   "source": [
    "Đầu tiên, ta sẽ import những thư viện cần thiết và bộ dữ liệu vào dataframe `df`."
   ]
  },
  {
   "cell_type": "code",
   "execution_count": 3,
   "metadata": {
    "id": "A3o7PEG9jlD1"
   },
   "outputs": [],
   "source": [
    "# Import các thư viện cần thiết\n",
    "import numpy as np\n",
    "import pandas as pd\n",
    "from sklearn.datasets import load_breast_cancer\n",
    "from sklearn.model_selection import train_test_split\n",
    "from sklearn.preprocessing import StandardScaler\n",
    "from sklearn.linear_model import LogisticRegression\n",
    "from sklearn.neighbors import KNeighborsClassifier\n",
    "from sklearn.tree import DecisionTreeClassifier\n",
    "from sklearn.svm import SVC\n",
    "from sklearn.metrics import accuracy_score, precision_score, recall_score, f1_score, confusion_matrix\n",
    "\n",
    "# Tải dữ liệu\n",
    "iris = load_breast_cancer()\n",
    "X = iris.data\n",
    "y = iris.target\n",
    "\n",
    "# Tạo dataframe để dễ dàng quan sát dữ liệu\n",
    "df = pd.DataFrame(data=X, columns=iris.feature_names)\n",
    "df[\"target\"] = y"
   ]
  },
  {
   "cell_type": "code",
   "execution_count": 4,
   "metadata": {
    "id": "hEeEA5QDbu2N",
    "outputId": "a500448b-fcd7-4785-bf0e-5267fdb50c25"
   },
   "outputs": [
    {
     "data": {
      "text/html": [
       "<div>\n",
       "<style scoped>\n",
       "    .dataframe tbody tr th:only-of-type {\n",
       "        vertical-align: middle;\n",
       "    }\n",
       "\n",
       "    .dataframe tbody tr th {\n",
       "        vertical-align: top;\n",
       "    }\n",
       "\n",
       "    .dataframe thead th {\n",
       "        text-align: right;\n",
       "    }\n",
       "</style>\n",
       "<table border=\"1\" class=\"dataframe\">\n",
       "  <thead>\n",
       "    <tr style=\"text-align: right;\">\n",
       "      <th></th>\n",
       "      <th>mean radius</th>\n",
       "      <th>mean texture</th>\n",
       "      <th>mean perimeter</th>\n",
       "      <th>mean area</th>\n",
       "      <th>mean smoothness</th>\n",
       "      <th>mean compactness</th>\n",
       "      <th>mean concavity</th>\n",
       "      <th>mean concave points</th>\n",
       "      <th>mean symmetry</th>\n",
       "      <th>mean fractal dimension</th>\n",
       "      <th>...</th>\n",
       "      <th>worst texture</th>\n",
       "      <th>worst perimeter</th>\n",
       "      <th>worst area</th>\n",
       "      <th>worst smoothness</th>\n",
       "      <th>worst compactness</th>\n",
       "      <th>worst concavity</th>\n",
       "      <th>worst concave points</th>\n",
       "      <th>worst symmetry</th>\n",
       "      <th>worst fractal dimension</th>\n",
       "      <th>target</th>\n",
       "    </tr>\n",
       "  </thead>\n",
       "  <tbody>\n",
       "    <tr>\n",
       "      <th>0</th>\n",
       "      <td>17.99</td>\n",
       "      <td>10.38</td>\n",
       "      <td>122.80</td>\n",
       "      <td>1001.0</td>\n",
       "      <td>0.11840</td>\n",
       "      <td>0.27760</td>\n",
       "      <td>0.3001</td>\n",
       "      <td>0.14710</td>\n",
       "      <td>0.2419</td>\n",
       "      <td>0.07871</td>\n",
       "      <td>...</td>\n",
       "      <td>17.33</td>\n",
       "      <td>184.60</td>\n",
       "      <td>2019.0</td>\n",
       "      <td>0.1622</td>\n",
       "      <td>0.6656</td>\n",
       "      <td>0.7119</td>\n",
       "      <td>0.2654</td>\n",
       "      <td>0.4601</td>\n",
       "      <td>0.11890</td>\n",
       "      <td>0</td>\n",
       "    </tr>\n",
       "    <tr>\n",
       "      <th>1</th>\n",
       "      <td>20.57</td>\n",
       "      <td>17.77</td>\n",
       "      <td>132.90</td>\n",
       "      <td>1326.0</td>\n",
       "      <td>0.08474</td>\n",
       "      <td>0.07864</td>\n",
       "      <td>0.0869</td>\n",
       "      <td>0.07017</td>\n",
       "      <td>0.1812</td>\n",
       "      <td>0.05667</td>\n",
       "      <td>...</td>\n",
       "      <td>23.41</td>\n",
       "      <td>158.80</td>\n",
       "      <td>1956.0</td>\n",
       "      <td>0.1238</td>\n",
       "      <td>0.1866</td>\n",
       "      <td>0.2416</td>\n",
       "      <td>0.1860</td>\n",
       "      <td>0.2750</td>\n",
       "      <td>0.08902</td>\n",
       "      <td>0</td>\n",
       "    </tr>\n",
       "    <tr>\n",
       "      <th>2</th>\n",
       "      <td>19.69</td>\n",
       "      <td>21.25</td>\n",
       "      <td>130.00</td>\n",
       "      <td>1203.0</td>\n",
       "      <td>0.10960</td>\n",
       "      <td>0.15990</td>\n",
       "      <td>0.1974</td>\n",
       "      <td>0.12790</td>\n",
       "      <td>0.2069</td>\n",
       "      <td>0.05999</td>\n",
       "      <td>...</td>\n",
       "      <td>25.53</td>\n",
       "      <td>152.50</td>\n",
       "      <td>1709.0</td>\n",
       "      <td>0.1444</td>\n",
       "      <td>0.4245</td>\n",
       "      <td>0.4504</td>\n",
       "      <td>0.2430</td>\n",
       "      <td>0.3613</td>\n",
       "      <td>0.08758</td>\n",
       "      <td>0</td>\n",
       "    </tr>\n",
       "    <tr>\n",
       "      <th>3</th>\n",
       "      <td>11.42</td>\n",
       "      <td>20.38</td>\n",
       "      <td>77.58</td>\n",
       "      <td>386.1</td>\n",
       "      <td>0.14250</td>\n",
       "      <td>0.28390</td>\n",
       "      <td>0.2414</td>\n",
       "      <td>0.10520</td>\n",
       "      <td>0.2597</td>\n",
       "      <td>0.09744</td>\n",
       "      <td>...</td>\n",
       "      <td>26.50</td>\n",
       "      <td>98.87</td>\n",
       "      <td>567.7</td>\n",
       "      <td>0.2098</td>\n",
       "      <td>0.8663</td>\n",
       "      <td>0.6869</td>\n",
       "      <td>0.2575</td>\n",
       "      <td>0.6638</td>\n",
       "      <td>0.17300</td>\n",
       "      <td>0</td>\n",
       "    </tr>\n",
       "    <tr>\n",
       "      <th>4</th>\n",
       "      <td>20.29</td>\n",
       "      <td>14.34</td>\n",
       "      <td>135.10</td>\n",
       "      <td>1297.0</td>\n",
       "      <td>0.10030</td>\n",
       "      <td>0.13280</td>\n",
       "      <td>0.1980</td>\n",
       "      <td>0.10430</td>\n",
       "      <td>0.1809</td>\n",
       "      <td>0.05883</td>\n",
       "      <td>...</td>\n",
       "      <td>16.67</td>\n",
       "      <td>152.20</td>\n",
       "      <td>1575.0</td>\n",
       "      <td>0.1374</td>\n",
       "      <td>0.2050</td>\n",
       "      <td>0.4000</td>\n",
       "      <td>0.1625</td>\n",
       "      <td>0.2364</td>\n",
       "      <td>0.07678</td>\n",
       "      <td>0</td>\n",
       "    </tr>\n",
       "  </tbody>\n",
       "</table>\n",
       "<p>5 rows × 31 columns</p>\n",
       "</div>"
      ],
      "text/plain": [
       "   mean radius  mean texture  mean perimeter  mean area  mean smoothness  \\\n",
       "0        17.99         10.38          122.80     1001.0          0.11840   \n",
       "1        20.57         17.77          132.90     1326.0          0.08474   \n",
       "2        19.69         21.25          130.00     1203.0          0.10960   \n",
       "3        11.42         20.38           77.58      386.1          0.14250   \n",
       "4        20.29         14.34          135.10     1297.0          0.10030   \n",
       "\n",
       "   mean compactness  mean concavity  mean concave points  mean symmetry  \\\n",
       "0           0.27760          0.3001              0.14710         0.2419   \n",
       "1           0.07864          0.0869              0.07017         0.1812   \n",
       "2           0.15990          0.1974              0.12790         0.2069   \n",
       "3           0.28390          0.2414              0.10520         0.2597   \n",
       "4           0.13280          0.1980              0.10430         0.1809   \n",
       "\n",
       "   mean fractal dimension  ...  worst texture  worst perimeter  worst area  \\\n",
       "0                 0.07871  ...          17.33           184.60      2019.0   \n",
       "1                 0.05667  ...          23.41           158.80      1956.0   \n",
       "2                 0.05999  ...          25.53           152.50      1709.0   \n",
       "3                 0.09744  ...          26.50            98.87       567.7   \n",
       "4                 0.05883  ...          16.67           152.20      1575.0   \n",
       "\n",
       "   worst smoothness  worst compactness  worst concavity  worst concave points  \\\n",
       "0            0.1622             0.6656           0.7119                0.2654   \n",
       "1            0.1238             0.1866           0.2416                0.1860   \n",
       "2            0.1444             0.4245           0.4504                0.2430   \n",
       "3            0.2098             0.8663           0.6869                0.2575   \n",
       "4            0.1374             0.2050           0.4000                0.1625   \n",
       "\n",
       "   worst symmetry  worst fractal dimension  target  \n",
       "0          0.4601                  0.11890       0  \n",
       "1          0.2750                  0.08902       0  \n",
       "2          0.3613                  0.08758       0  \n",
       "3          0.6638                  0.17300       0  \n",
       "4          0.2364                  0.07678       0  \n",
       "\n",
       "[5 rows x 31 columns]"
      ]
     },
     "execution_count": 4,
     "metadata": {},
     "output_type": "execute_result"
    }
   ],
   "source": [
    "# Xem qua một vài dòng dữ liệu\n",
    "df.head()"
   ]
  },
  {
   "cell_type": "markdown",
   "metadata": {
    "id": "-MB-D0nyjlD2"
   },
   "source": [
    "### 2. Tiền xử lý dữ liệu\n",
    "Thông thường, các bộ dữ liệu sẽ được chia thành các tập `train`, `test` để huấn luyện và đánh giá một cách công bằng. Ta sẽ sử dụng hàm `train_test_split` để thực hiện công việc này."
   ]
  },
  {
   "cell_type": "code",
   "execution_count": 5,
   "metadata": {
    "id": "W9Cu_3cejlD2"
   },
   "outputs": [],
   "source": [
    "# Chia bộ dữ liệu thành tập train và tập test\n",
    "X_train, X_test, y_train, y_test = train_test_split(X, y, test_size=0.2, random_state=42)\n",
    "\n",
    "# Chuẩn hóa các đặc trưng\n",
    "scaler = StandardScaler()\n",
    "X_train = scaler.fit_transform(X_train)\n",
    "X_test = scaler.transform(X_test)"
   ]
  },
  {
   "cell_type": "markdown",
   "metadata": {
    "id": "CEVlsduIbu2S"
   },
   "source": [
    "### 3. Xây dựng lớp bao bọc (wrapper class)"
   ]
  },
  {
   "cell_type": "markdown",
   "metadata": {
    "id": "hq9ZeKjqbu2T"
   },
   "source": [
    "Lớp bao bọc cho mô hình phân loại (Classification Model Wrapper) là một lớp được tạo ra để bao quanh mô hình phân loại, cung cấp một giao diện thống nhất cho việc sử dụng, đào tạo, dự đoán và đánh giá các mô hình phân loại khác nhau."
   ]
  },
  {
   "cell_type": "markdown",
   "metadata": {
    "id": "q0m-3uTpjlD2"
   },
   "source": [
    "**Bài tập**: Hãy xây dựng một lớp bao bọc (wrapper) nhận một mô hình phân lớp từ thư viện `sklearn` làm tham số cho constructor của đối tượng và thực hiện những chức năng đã được định nghĩa như bên dưới:"
   ]
  },
  {
   "cell_type": "code",
   "execution_count": 6,
   "metadata": {
    "id": "w801Ie6_jlD3"
   },
   "outputs": [],
   "source": [
    "class ClassificationModelWrapper:\n",
    "    \"\"\"\n",
    "    Một lớp bao bọc cho các mô hình phân loại, cung cấp một giao diện nhất quán.\n",
    "    \"\"\"\n",
    "\n",
    "    def __init__(self, model):\n",
    "        \"\"\"\n",
    "        Khởi tạo ClassificationModelWrapper với mô hình phân loại được chỉ định.\n",
    "\n",
    "        Tham số:\n",
    "        model : object\n",
    "            Mô hình phân loại cần được bao bọc.\n",
    "        \"\"\"\n",
    "        self.model = model\n",
    "\n",
    "    def fit(self, X, y):\n",
    "        \"\"\"\n",
    "        Huấn luyện mô hình phân loại đã bao bọc trên dữ liệu huấn luyện.\n",
    "\n",
    "        Tham số:\n",
    "        X : array-like hoặc pd.DataFrame, hình dạng (n_samples, n_features)\n",
    "            Các mẫu đầu vào cho việc huấn luyện.\n",
    "        y : array-like, hình dạng (n_samples,)\n",
    "            Giá trị mục tiêu.\n",
    "        \"\"\"\n",
    "        # YOUR CODE HERE\n",
    "\n",
    "        ### BEGIN SOLUTION\n",
    "        return self.model.fit(X, y)\n",
    "        ### END SOLUTION\n",
    "        pass\n",
    "\n",
    "    def predict(self, X):\n",
    "        \"\"\"\n",
    "        Dự đoán các nhãn lớp cho các mẫu đầu vào.\n",
    "\n",
    "        Tham số:\n",
    "        X : array-like hoặc pd.DataFrame, hình dạng (n_samples, n_features)\n",
    "            Các mẫu đầu vào cần dự đoán.\n",
    "\n",
    "        Trả về:\n",
    "        y_pred : array, hình dạng (n_samples,)\n",
    "            Các nhãn lớp được dự đoán.\n",
    "        \"\"\"\n",
    "        # YOUR CODE HERE\n",
    "\n",
    "        ### BEGIN SOLUTION\n",
    "        return self.model.predict(X)\n",
    "        ### END SOLUTION\n",
    "        pass\n",
    "\n",
    "\n",
    "    def evaluate(self, X, y):\n",
    "        \"\"\"\n",
    "        Đánh giá mô hình phân loại đã bao bọc trên dữ liệu đã cho và tính toán các chỉ số đánh giá.\n",
    "\n",
    "        Tham số:\n",
    "        X : array-like hoặc pd.DataFrame, hình dạng (n_samples, n_features)\n",
    "            Các mẫu đầu vào cần đánh giá.\n",
    "        y : array-like, hình dạng (n_samples,)\n",
    "            Giá trị mục tiêu thực.\n",
    "\n",
    "        Trả về:\n",
    "        evaluation_metrics : dict\n",
    "            Một từ điển chứa các chỉ số đánh giá bao gồm Độ chính xác (Accuracy), Độ chính xác (Precision),\n",
    "            Độ phủ (Recall), F1 Score và Ma trận nhầm lẫn (Confusion Matrix).\n",
    "        \"\"\"\n",
    "        # YOUR CODE HERE\n",
    "\n",
    "        ### BEGIN SOLUTION\n",
    "        y_pred = self.predict(X)\n",
    "\n",
    "        accuracy = accuracy_score(y, y_pred)\n",
    "        precision = precision_score(y, y_pred)\n",
    "        recall = recall_score(y, y_pred)\n",
    "        f1 = f1_score(y, y_pred)\n",
    "        confusion = confusion_matrix(y, y_pred)\n",
    "        \n",
    "        \n",
    "        \n",
    "        ### END SOLUTION\n",
    "\n",
    "        return {\n",
    "            'Accuracy': accuracy,\n",
    "            'Precision': precision,\n",
    "            'Recall': recall,\n",
    "            'F1 Score': f1,\n",
    "            'Confusion Matrix': confusion\n",
    "        }"
   ]
  },
  {
   "cell_type": "markdown",
   "metadata": {
    "id": "zYcl-BwCjlD3"
   },
   "source": [
    "### 4. Thử nghiệm trên nhiều mô hình phân loại khác nhau"
   ]
  },
  {
   "cell_type": "markdown",
   "metadata": {
    "id": "65zuitJ-bu2a"
   },
   "source": [
    "**Bài tập**: hãy lần lượt khởi tạo các mô hình logistic regression, knn, decision tree, svm sử dụng các class từ thư viện `sklearn` đã được import bên trên với tham số ***random_state=42*** đối với những mô hình nhận tham số ***random_state***."
   ]
  },
  {
   "cell_type": "code",
   "execution_count": 7,
   "metadata": {
    "id": "H5o7OpSmjlD3"
   },
   "outputs": [],
   "source": [
    "logistic_reg = None\n",
    "knn_classifier = None\n",
    "decision_tree = None\n",
    "svm_classifier = None\n",
    "\n",
    "### BEGIN SOLUTION\n",
    "logistic_reg = LogisticRegression(random_state=42)\n",
    "knn_classifier = KNeighborsClassifier()\n",
    "decision_tree = DecisionTreeClassifier(random_state=42)\n",
    "svm_classifier = SVC(random_state=42)\n",
    "\n",
    "### END SOLUTION"
   ]
  },
  {
   "cell_type": "code",
   "execution_count": 8,
   "metadata": {
    "id": "5CMWlcrbjlD3"
   },
   "outputs": [],
   "source": [
    "# Khởi tạo các lớp bao bọc ứng với các lớp mô hình bên trên\n",
    "model1 = ClassificationModelWrapper(logistic_reg)\n",
    "model2 = ClassificationModelWrapper(knn_classifier)\n",
    "model3 = ClassificationModelWrapper(decision_tree)\n",
    "model4 = ClassificationModelWrapper(svm_classifier)\n",
    "\n",
    "assert model1.model.__class__ == LogisticRegression\n",
    "assert model2.model.__class__ == KNeighborsClassifier\n",
    "assert model3.model.__class__ == DecisionTreeClassifier\n",
    "assert model4.model.__class__ == SVC"
   ]
  },
  {
   "cell_type": "markdown",
   "metadata": {
    "id": "J2Ji8V3xbu2c"
   },
   "source": [
    "Sau khi đã khởi tạo các mô hình phân loại, ta sẽ tiến hành huấn luyện các model trên tập train bằng phương thức `fit` với từng mô hình tương ứng."
   ]
  },
  {
   "cell_type": "code",
   "execution_count": 9,
   "metadata": {
    "id": "qzqScabvjlD4"
   },
   "outputs": [
    {
     "data": {
      "text/html": [
       "<style>#sk-container-id-1 {color: black;}#sk-container-id-1 pre{padding: 0;}#sk-container-id-1 div.sk-toggleable {background-color: white;}#sk-container-id-1 label.sk-toggleable__label {cursor: pointer;display: block;width: 100%;margin-bottom: 0;padding: 0.3em;box-sizing: border-box;text-align: center;}#sk-container-id-1 label.sk-toggleable__label-arrow:before {content: \"▸\";float: left;margin-right: 0.25em;color: #696969;}#sk-container-id-1 label.sk-toggleable__label-arrow:hover:before {color: black;}#sk-container-id-1 div.sk-estimator:hover label.sk-toggleable__label-arrow:before {color: black;}#sk-container-id-1 div.sk-toggleable__content {max-height: 0;max-width: 0;overflow: hidden;text-align: left;background-color: #f0f8ff;}#sk-container-id-1 div.sk-toggleable__content pre {margin: 0.2em;color: black;border-radius: 0.25em;background-color: #f0f8ff;}#sk-container-id-1 input.sk-toggleable__control:checked~div.sk-toggleable__content {max-height: 200px;max-width: 100%;overflow: auto;}#sk-container-id-1 input.sk-toggleable__control:checked~label.sk-toggleable__label-arrow:before {content: \"▾\";}#sk-container-id-1 div.sk-estimator input.sk-toggleable__control:checked~label.sk-toggleable__label {background-color: #d4ebff;}#sk-container-id-1 div.sk-label input.sk-toggleable__control:checked~label.sk-toggleable__label {background-color: #d4ebff;}#sk-container-id-1 input.sk-hidden--visually {border: 0;clip: rect(1px 1px 1px 1px);clip: rect(1px, 1px, 1px, 1px);height: 1px;margin: -1px;overflow: hidden;padding: 0;position: absolute;width: 1px;}#sk-container-id-1 div.sk-estimator {font-family: monospace;background-color: #f0f8ff;border: 1px dotted black;border-radius: 0.25em;box-sizing: border-box;margin-bottom: 0.5em;}#sk-container-id-1 div.sk-estimator:hover {background-color: #d4ebff;}#sk-container-id-1 div.sk-parallel-item::after {content: \"\";width: 100%;border-bottom: 1px solid gray;flex-grow: 1;}#sk-container-id-1 div.sk-label:hover label.sk-toggleable__label {background-color: #d4ebff;}#sk-container-id-1 div.sk-serial::before {content: \"\";position: absolute;border-left: 1px solid gray;box-sizing: border-box;top: 0;bottom: 0;left: 50%;z-index: 0;}#sk-container-id-1 div.sk-serial {display: flex;flex-direction: column;align-items: center;background-color: white;padding-right: 0.2em;padding-left: 0.2em;position: relative;}#sk-container-id-1 div.sk-item {position: relative;z-index: 1;}#sk-container-id-1 div.sk-parallel {display: flex;align-items: stretch;justify-content: center;background-color: white;position: relative;}#sk-container-id-1 div.sk-item::before, #sk-container-id-1 div.sk-parallel-item::before {content: \"\";position: absolute;border-left: 1px solid gray;box-sizing: border-box;top: 0;bottom: 0;left: 50%;z-index: -1;}#sk-container-id-1 div.sk-parallel-item {display: flex;flex-direction: column;z-index: 1;position: relative;background-color: white;}#sk-container-id-1 div.sk-parallel-item:first-child::after {align-self: flex-end;width: 50%;}#sk-container-id-1 div.sk-parallel-item:last-child::after {align-self: flex-start;width: 50%;}#sk-container-id-1 div.sk-parallel-item:only-child::after {width: 0;}#sk-container-id-1 div.sk-dashed-wrapped {border: 1px dashed gray;margin: 0 0.4em 0.5em 0.4em;box-sizing: border-box;padding-bottom: 0.4em;background-color: white;}#sk-container-id-1 div.sk-label label {font-family: monospace;font-weight: bold;display: inline-block;line-height: 1.2em;}#sk-container-id-1 div.sk-label-container {text-align: center;}#sk-container-id-1 div.sk-container {/* jupyter's `normalize.less` sets `[hidden] { display: none; }` but bootstrap.min.css set `[hidden] { display: none !important; }` so we also need the `!important` here to be able to override the default hidden behavior on the sphinx rendered scikit-learn.org. See: https://github.com/scikit-learn/scikit-learn/issues/21755 */display: inline-block !important;position: relative;}#sk-container-id-1 div.sk-text-repr-fallback {display: none;}</style><div id=\"sk-container-id-1\" class=\"sk-top-container\"><div class=\"sk-text-repr-fallback\"><pre>SVC(random_state=42)</pre><b>In a Jupyter environment, please rerun this cell to show the HTML representation or trust the notebook. <br />On GitHub, the HTML representation is unable to render, please try loading this page with nbviewer.org.</b></div><div class=\"sk-container\" hidden><div class=\"sk-item\"><div class=\"sk-estimator sk-toggleable\"><input class=\"sk-toggleable__control sk-hidden--visually\" id=\"sk-estimator-id-1\" type=\"checkbox\" checked><label for=\"sk-estimator-id-1\" class=\"sk-toggleable__label sk-toggleable__label-arrow\">SVC</label><div class=\"sk-toggleable__content\"><pre>SVC(random_state=42)</pre></div></div></div></div></div>"
      ],
      "text/plain": [
       "SVC(random_state=42)"
      ]
     },
     "execution_count": 9,
     "metadata": {},
     "output_type": "execute_result"
    }
   ],
   "source": [
    "model1.fit(X_train, y_train)\n",
    "model2.fit(X_train, y_train)\n",
    "model3.fit(X_train, y_train)\n",
    "model4.fit(X_train, y_train)"
   ]
  },
  {
   "cell_type": "markdown",
   "metadata": {
    "id": "N53CK02Sbu2e"
   },
   "source": [
    "Bước tiếp theo, chúng ta sẽ đánh giá hiệu suất của các mô hình trên tập dữ liệu kiểm tra (tập test) bằng cách sử dụng phương thức `evaluate`. Điều này giúp chúng ta xem xét và so sánh cách mà từng mô hình hoạt động trên dữ liệu mới, giúp đánh giá khả năng tổng quan của mô hình trong việc dự đoán."
   ]
  },
  {
   "cell_type": "code",
   "execution_count": 10,
   "metadata": {
    "id": "9Py1_TMvjlD4"
   },
   "outputs": [],
   "source": [
    "model1_evaluation = model1.evaluate(X_test, y_test)\n",
    "model2_evaluation = model2.evaluate(X_test, y_test)\n",
    "model3_evaluation = model3.evaluate(X_test, y_test)\n",
    "model4_evaluation = model4.evaluate(X_test, y_test)"
   ]
  },
  {
   "cell_type": "code",
   "execution_count": 11,
   "metadata": {
    "id": "csjaHjhmbu2f"
   },
   "outputs": [],
   "source": [
    "assert len(model1_evaluation.keys()) == 5\n",
    "assert \"Accuracy\" in model1_evaluation\n",
    "assert \"Precision\" in model1_evaluation\n",
    "assert \"Recall\" in model1_evaluation\n",
    "assert \"F1 Score\" in model1_evaluation\n",
    "assert \"Confusion Matrix\" in model1_evaluation"
   ]
  },
  {
   "cell_type": "markdown",
   "metadata": {
    "id": "1EfLLeAGjlD5"
   },
   "source": [
    "### 5. Visualize kết quả của từng mô hình trên tập test"
   ]
  },
  {
   "cell_type": "markdown",
   "metadata": {
    "id": "KYNBB2ngbu2n"
   },
   "source": [
    "Để so sánh hiệu suất của từng mô hình, chúng ta sẽ trực quan hóa các chỉ số đánh giá, bao gồm accuracy, precision, recall và F1-score. Thông qua việc trực quan hóa, chúng ta có thể thấy rõ sự khác biệt giữa các mô hình và xác định mô hình nào hoạt động tốt hơn.\n",
    "\n",
    "Chúng ta sẽ sử dụng biểu đồ hoặc đồ thị để hiển thị các chỉ số này, giúp chúng ta dễ dàng so sánh và đưa ra quyết định về mô hình nào nên sử dụng trong tình huống cụ thể."
   ]
  },
  {
   "cell_type": "code",
   "execution_count": 12,
   "metadata": {
    "id": "mgdqWcN3jlD5",
    "outputId": "64853e2c-618d-429b-aded-643142502413"
   },
   "outputs": [
    {
     "data": {
      "image/png": "[encoded data removed]",
      "text/plain": [
       "<Figure size 1200x1000 with 4 Axes>"
      ]
     },
     "metadata": {},
     "output_type": "display_data"
    }
   ],
   "source": [
    "import matplotlib.pyplot as plt\n",
    "import seaborn as sns\n",
    "\n",
    "models = ['Logistic\\nRegression', 'KNN\\nClassifier', 'Decision\\nTree', 'SVM']\n",
    "accuracies = [model1_evaluation['Accuracy'], model2_evaluation['Accuracy'], model3_evaluation['Accuracy'], model4_evaluation['Accuracy']]\n",
    "precisions = [model1_evaluation['Precision'], model2_evaluation['Precision'], model3_evaluation['Precision'], model4_evaluation['Precision']]\n",
    "recalls = [model1_evaluation['Recall'], model2_evaluation['Recall'], model3_evaluation['Recall'], model4_evaluation['Recall']]\n",
    "f1_scores = [model1_evaluation['F1 Score'], model2_evaluation['F1 Score'], model3_evaluation['F1 Score'], model4_evaluation['F1 Score']]\n",
    "\n",
    "fig, axs = plt.subplots(2, 2, figsize=(12, 10))\n",
    "fig.suptitle('Model Comparison Metrics')\n",
    "\n",
    "axs[0, 0].bar(models, accuracies, color='skyblue')\n",
    "axs[0, 0].set_title('Accuracy')\n",
    "axs[0, 0].set_ylim(0, 1)\n",
    "\n",
    "axs[0, 1].bar(models, precisions, color='salmon')\n",
    "axs[0, 1].set_title('Precision')\n",
    "axs[0, 1].set_ylim(0, 1)\n",
    "\n",
    "axs[1, 0].bar(models, recalls, color='lightgreen')\n",
    "axs[1, 0].set_title('Recall')\n",
    "axs[1, 0].set_ylim(0, 1)\n",
    "\n",
    "axs[1, 1].bar(models, f1_scores, color='lightcoral')\n",
    "axs[1, 1].set_title('F1 Score')\n",
    "axs[1, 1].set_ylim(0, 1)\n",
    "\n",
    "plt.subplots_adjust(wspace=0.4, hspace=0.4)\n",
    "plt.show()"
   ]
  },
  {
   "cell_type": "markdown",
   "metadata": {
    "id": "HFAr4JQBbu2x"
   },
   "source": [
    "Để đánh giá hiệu suất của mô hình, chúng ta sẽ trực quan hóa ma trận nhầm lẫn (confusion matrix) của từng mô hình. Ma trận nhầm lẫn là một công cụ quan trọng để đánh giá khả năng phân loại của mô hình, bằng cách cho biết số lượng các điểm dữ liệu thực sự thuộc vào từng lớp và số lượng điểm dữ liệu được dự đoán đúng hoặc sai.\n",
    "\n",
    "Chúng ta sẽ sử dụng biểu đồ hoặc đồ thị để hiển thị ma trận nhầm lẫn, giúp chúng ta hiểu rõ hơn về khả năng phân loại của từng mô hình. Ma trận nhầm lẫn bao gồm bốn giá trị chính: True Positives (TP), True Negatives (TN), False Positives (FP), và False Negatives (FN). Bằng cách trực quan hóa ma trận nhầm lẫn, chúng ta có thể thấy được sự phân bố của các dự đoán đúng và sai trên các lớp khác nhau, từ đó đánh giá được hiệu suất của mô hình."
   ]
  },
  {
   "cell_type": "code",
   "execution_count": 13,
   "metadata": {
    "id": "9ABNOKQ3bu2x",
    "outputId": "f2c9c684-b3e0-412c-e376-1308613dc50d"
   },
   "outputs": [
    {
     "data": {
      "image/png": "[encoded data removed]",
      "text/plain": [
       "<Figure size 1200x1000 with 4 Axes>"
      ]
     },
     "metadata": {},
     "output_type": "display_data"
    }
   ],
   "source": [
    "def plot_confusion_matrix(confusion_matrix, model_name, ax):\n",
    "    sns.heatmap(confusion_matrix, annot=True, fmt='d', cmap=\"Reds\", cbar=False, ax=ax)\n",
    "    ax.set_title(f'Confusion Matrix - {model_name}')\n",
    "    ax.set_xlabel('Predicted Labels')\n",
    "    ax.set_ylabel('True Labels')\n",
    "\n",
    "fig, axs = plt.subplots(2, 2, figsize=(12, 10))\n",
    "fig.suptitle('Confusion Matrices for Model Comparison')\n",
    "\n",
    "plot_confusion_matrix(model1_evaluation['Confusion Matrix'], 'Logistic Regression', axs[0, 0])\n",
    "plot_confusion_matrix(model2_evaluation['Confusion Matrix'], 'KNN Classifier', axs[0, 1])\n",
    "plot_confusion_matrix(model3_evaluation['Confusion Matrix'], 'Decision Tree', axs[1, 0])\n",
    "plot_confusion_matrix(model4_evaluation['Confusion Matrix'], 'SVM', axs[1, 1])\n",
    "\n",
    "plt.subplots_adjust(wspace=0.4, hspace=0.4)\n",
    "plt.show()"
   ]
  }
 ],
 "metadata": {
  "colab": {
   "provenance": []
  },
  "kernelspec": {
   "display_name": "Python 3 (ipykernel)",
   "language": "python",
   "name": "python3"
  },
  "language_info": {
   "codemirror_mode": {
    "name": "ipython",
    "version": 3
   },
   "file_extension": ".py",
   "mimetype": "text/x-python",
   "name": "python",
   "nbconvert_exporter": "python",
   "pygments_lexer": "ipython3",
   "version": "3.11.4"
  }
 },
 "nbformat": 4,
 "nbformat_minor": 4
}
