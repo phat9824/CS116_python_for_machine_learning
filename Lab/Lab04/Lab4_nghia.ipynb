{
 "cells": [
  {
   "cell_type": "markdown",
   "id": "1194bce3-bb8d-49ab-abe0-ff4cd9107c8c",
   "metadata": {},
   "source": [
    "<h1><b>Tiền xử lí dữ liệu (phần 2)"
   ]
  },
  {
   "cell_type": "markdown",
   "id": "e583ed8f-b51b-4106-b26d-5a28e2895ef6",
   "metadata": {},
   "source": [
    "Trong bài này, ta sẽ tiếp tục thực hành những vấn đề:\n",
    "\n",
    "    - Data transformation:\n",
    "        + Kỹ thuật Ordinal Encoding và One-hot encoding\n",
    "        + Kỹ thuật binning: Uniform, Quantile, Clustered\n",
    "    - Data augmentation: tăng cường dữ liệu để đề phòng trường hợp dữ liệu mất cân đối hoặc các mẫu / phân lớp quá hiếm gặp"
   ]
  },
  {
   "cell_type": "markdown",
   "id": "922db70a-3bde-4e6c-b2c6-fa68183cbbd4",
   "metadata": {},
   "source": [
    "<h1>Data Transformation"
   ]
  },
  {
   "cell_type": "markdown",
   "id": "5be3ab68-43a1-4450-aac2-e15664875713",
   "metadata": {},
   "source": [
    "<h3>Kĩ thuật Ordinal Encoding"
   ]
  },
  {
   "cell_type": "markdown",
   "id": "4a317bbd-24ad-48f4-93a1-acad98a77201",
   "metadata": {},
   "source": [
    "Đầu tiên ta cần import thư viện cần thiết `pandas` với tên tắt là `pd`"
   ]
  },
  {
   "cell_type": "code",
   "execution_count": 1,
   "id": "fc54d5f8-9c69-44e5-bdda-a6e3b0656ba3",
   "metadata": {},
   "outputs": [],
   "source": [
    "### BEGIN SOLUTION\n",
    "import pandas as pd\n",
    "### END SOLUTION"
   ]
  },
  {
   "cell_type": "markdown",
   "id": "a71ec21d-69ec-4612-94de-c42d3ac5878f",
   "metadata": {},
   "source": [
    "Tiếp đến là đọc file csv bằng `pandas` như những bài trước và lưu dataframe vào biến `df`. Khi nộp trên hệ thống, các bạn vui lòng đọc tại đường dẫn `data/heart.csv`."
   ]
  },
  {
   "cell_type": "code",
   "execution_count": null,
   "id": "14d4373c-9143-48aa-aca4-98b646b8bcb9",
   "metadata": {},
   "outputs": [],
   "source": [
    "### BEGIN SOLUTION\n",
    "df = pd.read_csv(\"data/heart.csv\")\n",
    "### END SOLUTION\n",
    "df.head()"
   ]
  },
  {
   "cell_type": "markdown",
   "id": "042fdb3d-04a1-4a2b-a2be-83dc71bc97c7",
   "metadata": {},
   "source": [
    "Ta thấy ở cột `ChestPain`, cột `Thal`, cột `AHD` có dữ liệu dạng **category**.\n",
    "Giả sử mô hình của ta chỉ nhận dữ liệu đầu vào dạng số, ta phải biến các cột này thành dạng số sao cho những đặc trưng này không bị thay đổi\n",
    "\n",
    "Ở cột `ChestPain`:\n",
    "*   typical: 1\n",
    "*   asymptomatic: 2\n",
    "*   nonanginal: 3\n",
    "*   nontypical: 4\n",
    "\n",
    "Ở cột `Thal`:\n",
    "*   normal: 1\n",
    "*   fixed: 2\n",
    "*   reversable: 3\n",
    "\n",
    "Ở cột `AHD`:\n",
    "*   No: 0\n",
    "*   Yes: 1"
   ]
  },
  {
   "cell_type": "code",
   "execution_count": null,
   "id": "ad3dcf35-387d-4e04-b359-4f82adbe5e1e",
   "metadata": {},
   "outputs": [],
   "source": [
    "### BEGIN SOLUTION\n",
    "\n",
    "import pandas as pd\n",
    "from sklearn.preprocessing import OrdinalEncoder, OneHotEncoder\n",
    "\n",
    "# Khởi tạo\n",
    "categories = [['typical', 'asymptomatic', 'nonanginal', 'nontypical'],\n",
    "              ['normal', 'fixed', 'reversable'],\n",
    "              ['No', 'Yes']]\n",
    "\n",
    "# Sử dụng OrdinalEncoder\n",
    "encoder = OrdinalEncoder(categories=categories)\n",
    "df[['ChestPain', 'Thal', 'AHD']] = encoder.fit_transform(df[['ChestPain', 'Thal', 'AHD']])\n",
    "df[['ChestPain', 'Thal']] += 1\n",
    "\n",
    "# Chuyển đổi kiểu dữ liệu thành int64\n",
    "df[[\"ChestPain\", \"Thal\", \"AHD\"]] = df[[\"ChestPain\", \"Thal\", \"AHD\"]].astype(\"int64\")\n",
    "\n",
    "### END SOLUTION\n",
    "\n",
    "df.head()"
   ]
  },
  {
   "cell_type": "code",
   "execution_count": 4,
   "id": "32428850-6f42-4bcd-bae7-898470703d29",
   "metadata": {},
   "outputs": [],
   "source": [
    "assert df['ChestPain'].dtypes == 'int64'\n",
    "assert df.shape == (50, 15)"
   ]
  },
  {
   "cell_type": "markdown",
   "id": "e454a95e-0d4c-4797-913d-fd0e64084277",
   "metadata": {},
   "source": [
    "<h3>Kĩ thuật One-hot encoding"
   ]
  },
  {
   "cell_type": "markdown",
   "id": "f1ac73eb-ab38-4767-802d-f480b6f1a29b",
   "metadata": {},
   "source": [
    "Ở đây ta sẽ tiếp tục đi đến một kĩ thuật khác đó là `One-hot`"
   ]
  },
  {
   "cell_type": "markdown",
   "id": "4e7f8feb-0ff6-4231-bc9a-4e4871d8cda3",
   "metadata": {},
   "source": [
    "Ta tiếp tục đọc file csv bằng `pandas` và lưu dataframe vào biến `df`. Khi nộp trên hệ thống, các bạn vui lòng đọc tại đường dẫn `data/heart.csv`."
   ]
  },
  {
   "cell_type": "code",
   "execution_count": null,
   "id": "97061c2d-1016-4018-9d20-a4f573c87675",
   "metadata": {},
   "outputs": [],
   "source": [
    "### BEGIN SOLUTION\n",
    "df = pd.read_csv(\"data/heart.csv\")\n",
    "### END SOLUTION\n",
    "df.head()"
   ]
  },
  {
   "cell_type": "markdown",
   "id": "a92aff40-96fb-46c5-9071-472c8f5aa05b",
   "metadata": {},
   "source": [
    "Ở cột `Thal`, ta sẽ biến cột này thành `One-hot` bằng cách thêm 3 cột `fixed`, `normal`, `reversable` vào `df`\n",
    "\n",
    "**Ba cột mới này sẽ biểu diễn One-hot cho cột `Thal` cũ**"
   ]
  },
  {
   "cell_type": "code",
   "execution_count": null,
   "id": "823f0c6e-c4be-4b38-8525-6c6374d3aaf0",
   "metadata": {},
   "outputs": [],
   "source": [
    "### BEGIN SOLUTION\n",
    "\n",
    "# Thực hiện one-hot encoding cho cột 'Thal'\n",
    "df = pd.get_dummies(df, columns=[\"Thal\"])\n",
    "\n",
    "# Đổi tên các cột mới thành 'fixed', 'normal', 'reversable'\n",
    "df.rename(columns={\"Thal_fixed\": \"fixed\", \"Thal_normal\": \"normal\", \"Thal_reversable\": \"reversable\"}, inplace=True)\n",
    "\n",
    "# Chuyển các giá trị ở các cột thành 0 hoặc 1\n",
    "df[['fixed', 'normal', 'reversable']] = df[['fixed', 'normal', 'reversable']].astype(int)\n",
    "\n",
    "### END SOLUTION\n",
    "\n",
    "df"
   ]
  },
  {
   "cell_type": "code",
   "execution_count": 8,
   "id": "48cae209-6703-410b-8464-6300302d0aaf",
   "metadata": {},
   "outputs": [],
   "source": [
    "assert df.shape == (50, 17)\n",
    "assert df['fixed'][0] == 1\n",
    "assert df['normal'][0] == 0\n",
    "assert df['reversable'][0] == 0"
   ]
  },
  {
   "cell_type": "markdown",
   "id": "b0b215e4-b52f-4881-8521-1d15f2752534",
   "metadata": {},
   "source": [
    "<i>Trong một số trường hợp, ta không thể giữ nguyên dữ liệu dạng số để tính toán, mà ta cần chuyển nó qua dạng category\n",
    "\n",
    "Thường thì các mô hình Tree sẽ cần dữ liệu dạng Category </i>\n",
    "\n",
    "Để làm được việc này, ta sẽ đi đến kĩ thuật đầu tiên `Uniform`"
   ]
  },
  {
   "cell_type": "markdown",
   "id": "ef0fc79d-67fa-4ab5-b8e9-b0252b3886f9",
   "metadata": {},
   "source": [
    "<h3>Kĩ thuật Uniform"
   ]
  },
  {
   "cell_type": "code",
   "execution_count": null,
   "id": "3fe67968-edfa-4fec-85b0-8438a8af957b",
   "metadata": {},
   "outputs": [],
   "source": [
    "import matplotlib.pyplot as plt \n",
    "\n",
    "plt.plot(df['Age'])\n",
    "plt.xlabel('Index')\n",
    "plt.ylabel('Age');"
   ]
  },
  {
   "cell_type": "markdown",
   "id": "a65309f2-53f0-43b6-8445-a0309c2d9557",
   "metadata": {},
   "source": [
    "**Kĩ thuật Uniform dùng để biến dữ liệu thành các Bin có khoảng dữ liệu bằng nhau**\n",
    "\n",
    "Mục tiêu: Tạo thêm **1 cột**, giá trị của cột là `middle-age` hoặc `old` hoặc `elderly`, cột có label là `Uniform`, cột này ở kế sau cột `Age`\n",
    "\n",
    "Ta có thể làm thủ công hoặc sử dụng phương thức `qcut` của `pandas`"
   ]
  },
  {
   "cell_type": "code",
   "execution_count": 11,
   "id": "7cbdeda1-2a08-4fef-8f7f-91caf5db2f8c",
   "metadata": {},
   "outputs": [],
   "source": [
    "### BEGIN SOLUTION\n",
    "\n",
    "# Tạo các bin có khoảng dữ liệu bằng nhau cho cột \"Age\"\n",
    "bins = pd.qcut(df['Age'], q=3, labels=[\"middle-age\", \"old\", \"elderly\"])\n",
    "\n",
    "# Thêm cột mới vào DataFrame\n",
    "df.insert(2, 'Uniform', bins)\n",
    "\n",
    "### END SOLUTION"
   ]
  },
  {
   "cell_type": "code",
   "execution_count": null,
   "id": "22a88574-48b5-430a-ac93-eb2a1a68cc62",
   "metadata": {},
   "outputs": [],
   "source": [
    "import seaborn as sns\n",
    "sns.countplot(x=df['Uniform']);"
   ]
  },
  {
   "cell_type": "markdown",
   "id": "19c5c0ab-8434-4233-a9e5-525da82219b9",
   "metadata": {},
   "source": [
    "Ta có thể thấy số lượng dữ liệu chênh nhau không quá nhiều"
   ]
  },
  {
   "cell_type": "code",
   "execution_count": 13,
   "id": "3d317015-fa77-4789-8ab6-0a29ee3acb7c",
   "metadata": {},
   "outputs": [],
   "source": [
    "assert df.columns[2] == 'Uniform'\n",
    "assert df['Uniform'].dtype == 'category'"
   ]
  },
  {
   "cell_type": "markdown",
   "id": "98028b81-0ae5-4503-b09e-2db7a88be4a9",
   "metadata": {},
   "source": [
    "<h3>Kĩ thuật Quantile"
   ]
  },
  {
   "cell_type": "markdown",
   "id": "817cc18e-591e-4587-b09a-c0b8ab707247",
   "metadata": {},
   "source": [
    "Kĩ thuật Quantile dùng để chia dữ liệu thành những khoảng với phần trăm cho trước\n",
    "\n",
    "Giả sử ta sẽ chia cột `Age` thành 4 phần:\n",
    "* `Q1` <= 25%\n",
    "* 25% < `Q2` <= 50%\n",
    "* 50% < `Q3` <= 95%\n",
    "* 95% < `Q4`\n",
    "\n",
    "Sau đó ta thêm cột `Quantile` với các giá trị `Q1, Q2, Q3, Q4` ở vị trí thứ 3 của dataframe `df`"
   ]
  },
  {
   "cell_type": "code",
   "execution_count": 15,
   "id": "4dd576c3-c9db-418d-885c-511a11f72a0f",
   "metadata": {},
   "outputs": [],
   "source": [
    "labels = ['Q1', 'Q2', 'Q3', 'Q4']\n",
    "quantiles = df['Age'].quantile([0.25, 0.5, 0.95])\n",
    "### BEGIN SOLUTION\n",
    "\n",
    "bins = pd.qcut(df['Age'], q=[0, 0.25, 0.5, 0.95, 1], labels=labels)\n",
    "\n",
    "# Thêm cột 'Quantile' vào vị trí thứ 3 của dataframe\n",
    "df.insert(3, 'Quantile', bins)\n",
    "\n",
    "### END SOLUTION"
   ]
  },
  {
   "cell_type": "code",
   "execution_count": null,
   "id": "5310559c-3d97-483c-8ee8-d86edd032334",
   "metadata": {},
   "outputs": [],
   "source": [
    "sns.countplot(x=df['Quantile']);"
   ]
  },
  {
   "cell_type": "code",
   "execution_count": 17,
   "id": "3e29495d-d876-48c0-85d1-5ee6ace35eff",
   "metadata": {},
   "outputs": [],
   "source": [
    "assert df.shape == (50, 19)"
   ]
  },
  {
   "cell_type": "markdown",
   "id": "8d925536-4a95-47e0-81b7-bd7883c514c0",
   "metadata": {},
   "source": [
    "<h3>Kĩ thuật Clustered"
   ]
  },
  {
   "cell_type": "markdown",
   "id": "355d098f-b0a3-4b7d-9a7d-69794ee56046",
   "metadata": {},
   "source": [
    "Kĩ thuật Clustered dùng để biến dữ liệu theo ý của ta\n",
    "\n",
    "Ở đây là các tuổi lớn hơn **60** là `C1` và còn lại là `C2`\n",
    "\n",
    "Ta tiếp tục thêm cột `Clustered` ở vị trí thứ `4`, giá trị của cột này là `C1, C2`"
   ]
  },
  {
   "cell_type": "code",
   "execution_count": 19,
   "id": "400f9875-88de-43d3-b7db-e402bd75a6fa",
   "metadata": {},
   "outputs": [],
   "source": [
    "labels = ['C1', 'C2']\n",
    "### BEGIN SOLUTION\n",
    "\n",
    "# Định nghĩa hàm để phân loại tuổi\n",
    "def categorize_age(age, labels):\n",
    "    if age > 60:\n",
    "        return labels[0]\n",
    "    else:\n",
    "        return labels[1]\n",
    "\n",
    "# Áp dụng hàm cho cột \"Age\" và tạo cột \"Clustered\"\n",
    "bins = df['Age'].apply(categorize_age, args=(labels,))\n",
    "\n",
    "# Đảm bảo cột \"Clustered\" được đặt ở vị trí thứ 4\n",
    "df.insert(4, 'Clustered', bins)\n",
    "\n",
    "### END SOLUTION"
   ]
  },
  {
   "cell_type": "code",
   "execution_count": null,
   "id": "f2a97999-8080-40b6-8ea2-4bf44e8aac4a",
   "metadata": {},
   "outputs": [],
   "source": [
    "sns.countplot(x=df['Clustered']);"
   ]
  },
  {
   "cell_type": "markdown",
   "id": "1ccb28bb-96b1-441c-8746-44e4bd69898d",
   "metadata": {},
   "source": [
    "<h1>Data augmentation"
   ]
  },
  {
   "cell_type": "markdown",
   "id": "a0d2358a-0dd1-430f-ad7b-aca750b05853",
   "metadata": {},
   "source": [
    "Đối với những bài toán mà quá ít dữ liệu, ta có thể tìm thêm hoặc tạo ra dữ liệu mới từ những dữ liệu hiện có\n",
    "\n",
    "Nhưng điều này ít nhiều cũng sẽ ảnh hưởng đến chất lượng của mô hình, ta nên cân nhắc kĩ khi sử dụng cách này"
   ]
  }
 ],
 "metadata": {
  "kernelspec": {
   "display_name": "Python 3 (ipykernel)",
   "language": "python",
   "name": "python3"
  },
  "language_info": {
   "codemirror_mode": {
    "name": "ipython",
    "version": 3
   },
   "file_extension": ".py",
   "mimetype": "text/x-python",
   "name": "python",
   "nbconvert_exporter": "python",
   "pygments_lexer": "ipython3",
   "version": "3.11.5"
  }
 },
 "nbformat": 4,
 "nbformat_minor": 5
}
