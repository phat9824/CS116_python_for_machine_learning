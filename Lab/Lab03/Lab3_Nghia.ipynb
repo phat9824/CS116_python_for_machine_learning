{
 "cells": [
  {
   "cell_type": "markdown",
   "metadata": {
    "id": "v8TVgrjcjkME"
   },
   "source": [
    "# Phân tích đa biến\n",
    "Trong tuần này chúng ta sẽ tiến hành phân tích mối tương quan giữa các biến trong một bảng dữ liệu để thấy được mối quan hệ. Từ đó, cho phép chọn lựa các đặc trưng phù hợp để giải quyết bài toán."
   ]
  },
  {
   "cell_type": "markdown",
   "metadata": {
    "id": "moF6oOm2jrH4"
   },
   "source": [
    "Đầu tiên, tương tự như các bài tập trước, ta sẽ import những thư viện cần thiết"
   ]
  },
  {
   "cell_type": "code",
   "execution_count": 2,
   "metadata": {
    "id": "myZX8z45jkMH"
   },
   "outputs": [],
   "source": [
    "import numpy as np\n",
    "import pandas as pd\n",
    "import seaborn as sns\n",
    "import matplotlib.pyplot as plt"
   ]
  },
  {
   "cell_type": "markdown",
   "metadata": {
    "id": "plt-zUV2jwRE"
   },
   "source": [
    "Ở bài này, ta sẽ EDA những feature để phục vụ cho cho mô hình dự đoán (predict), trong đó:\n",
    "* Output (giá trị cần dự đoán) là cột `Survived`.\n",
    "* Các feature còn lại (ví dụ: `Pclass`, `Name`, `Sex`, `Age`) đóng vai trò là input của mô hình.\n",
    "\n",
    "*Việc đầu tiên cần làm* là đọc file dữ liệu csv bằng thư viện `pandas` như những bài trước và lưu dataframe vào biến `df`"
   ]
  },
  {
   "cell_type": "code",
   "execution_count": null,
   "metadata": {
    "id": "ZfFeIa7CjkMI",
    "outputId": "a57fb611-663b-43cf-de1c-c1fbca63b508"
   },
   "outputs": [],
   "source": [
    "df = pd.read_csv(\"./data/train.csv\")\n",
    "df.head()"
   ]
  },
  {
   "cell_type": "markdown",
   "metadata": {
    "id": "JVQbzz5IkkwL"
   },
   "source": [
    "## 1. Thống kê phân bố theo giá trị output\n",
    "\n",
    "Tiếp theo, ta phân tích output feature có tên là `Survived` để quan sát tập giá trị đầu ra và phân bố của các giá trị này:"
   ]
  },
  {
   "cell_type": "code",
   "execution_count": null,
   "metadata": {
    "id": "EmhshZAWjkMI",
    "outputId": "efbbc68e-9358-49d7-fd7d-17dafe7e7d4f"
   },
   "outputs": [],
   "source": [
    "sns.countplot(x=df['Survived']);"
   ]
  },
  {
   "cell_type": "markdown",
   "metadata": {
    "id": "nh2J4NLemLzu"
   },
   "source": [
    "Dựa vào biểu đồ ta có thể thấy, đây là bài toán phân loại nhị phân (binary classification) với hai nhãn đầu ra cần dự đoán là `0` và `1`. Trong đó, số lượng nhãn 0 chiếm tỉ trọng cao hơn so với nhãn 1.\n",
    "\n",
    "Tiếp đến, ta sẽ phân tích xem **những cột còn lại có liên quan gì đến cột `Survived` này hay không**.\n",
    "\n",
    "Đầu tiên là thống kê phân bố của nhãn cần dự đoán theo cột `Sex` (giới tính):"
   ]
  },
  {
   "cell_type": "code",
   "execution_count": null,
   "metadata": {
    "id": "E5_9HiUMjkMJ",
    "outputId": "c9110c77-37da-4af2-846b-583effb11909"
   },
   "outputs": [],
   "source": [
    "sns.countplot(x=df['Sex'], hue=df['Survived']);"
   ]
  },
  {
   "cell_type": "markdown",
   "metadata": {
    "id": "0JZJI7P4nAz9"
   },
   "source": [
    "**Nhận xét**: Dựa vào biểu đồ trên, ta thấy tỉ lệ nữ còn sống so với nữ đã mất cao hơn tỉ lệ đó trên tập nam giới.\n",
    "\n",
    "Ta thấy việc phân tích từng cột thế này **quá mất thời gian**, ta quyết định phân tích và hiển thị cùng lúc tất cả các cột có dạng dữ liệu Category hoặc những cột dạng Numerical mà ít labels như: [`Pclass`, `Sex`, `SibSp`, `Parch`, `Embarked`] bằng hàm `countplot` của thư viện `seaborn` và `subplot` của thư viện `matplotlib`."
   ]
  },
  {
   "cell_type": "markdown",
   "metadata": {
    "id": "mciHW-SAnymv"
   },
   "source": [
    "Với từng subplot (của thư viện `matplotlib`), ta dùng hàm `sns.countplot(x=..., hue=..., ax=...)` để vẽ các biểu đồ phân tích. Trong đó cần phải truyền vào:\n",
    "* Tham số `x` là những cột theo thứ tự trong cols, và chạy từ trên xuống dưới, trái qua phải.\n",
    "* Tham số `hue` = cột 'Survived'\n",
    "\n",
    "Các bạn cần hoàn thành bằng cách duyệt từ trên xuống dưới, từ trái qua phải các subplot để vẽ từng biểu đồ phân tích phân bố của giá trị output theo từng biến input đã nêu ở trên.\n",
    "\n",
    "Vì số lượng ô của subplot là 2 dòng x 3 cột = 6 ô, trong khi số lượng đặc trưng cần hiển thị chỉ có 5, do đó ta cần phải xoá ô cuối cùng. Để xóa ô cuối cùng này ta sử dụng hàm `set_visible`. Đoạn code này đã được cung cấp ngay phía sau."
   ]
  },
  {
   "cell_type": "code",
   "execution_count": null,
   "metadata": {
    "id": "e0Z3WGxzjkMJ",
    "outputId": "5576c350-2cd7-4c5f-9a7b-3dfa437b82ff"
   },
   "outputs": [],
   "source": [
    "# Danh sách  5 cột cần hiển thị theo thứ tự\n",
    "cols = ['Pclass', 'Sex', 'SibSp', 'Parch', 'Embarked']\n",
    "\n",
    "# Tạo subplot kích thước 2 x 3\n",
    "fig, ax = plt.subplots(2, 3, figsize=(18, 18))\n",
    "index = 0\n",
    "\n",
    "### BEGIN SOLUTION\n",
    "for i in range(2):\n",
    "    for j in range(3):\n",
    "        if index < len(cols):\n",
    "            sns.countplot(x=df[cols[index]], hue=df['Survived'], ax=ax[i, j])\n",
    "            index += 1\n",
    "### END SOLUTION\n",
    "\n",
    "# Xóa ô cuối cùng vì chỉ có 5 cột cần hiển thị\n",
    "ax.flat[-1].set_visible(False)\n",
    "plt.tight_layout()\n",
    "\n",
    "fig.savefig('part_1.png')"
   ]
  },
  {
   "cell_type": "markdown",
   "metadata": {
    "id": "LLVeF3Mnm_cU"
   },
   "source": [
    "**Nhận xét**:\n",
    "  * Ở cột `PClass`:\n",
    "    - Class 3 có tỉ lệ chết (0) cao hơn đột biến so với tỉ lệ sống (1)\n",
    "    - Class 2 có tỉ lệ chết và sống gần như bằng nhau\n",
    "    - Class 1 có tỉ lệ sống cao hơn\n",
    "  * Ở cột `SibSp`:\n",
    "    - Đa số tỉ lệ chết (0) đều cao hơn tỉ lệ sống (1)\n",
    "    - Riêng ở cột có giá trị 1 thì tỉ lệ sống cao hơn đôi chút\n",
    "  * Ở cột `Parch`:\n",
    "    - Đa số tỉ lệ chết (0) đều cao hơn tỉ lệ sống (1)\n",
    "    - Riêng ở cột có giá trị 1 thì tỉ lệ sống cao hơn đôi chút\n",
    "  * Ở cột `Embarked`:\n",
    "    - Vẫn giống những cột ở trên, ở cột này tỉ lệ chết (0) vẫn trội hơn so với sống (1)\n",
    "  **Ta nhận thấy cột `SibSp` và `Parch` gần như giống nhau về sự ảnh hưởng đối với cột `Survived`*"
   ]
  },
  {
   "cell_type": "markdown",
   "metadata": {
    "id": "SdVGC3IVsnkb"
   },
   "source": [
    "Tiếp theo là những cột ['Age', 'Fare'], đây là dữ liệu dạng numerical (số), nếu ta dùng countplot như trên sẽ rất khó quan sát và phân tích:"
   ]
  },
  {
   "cell_type": "code",
   "execution_count": null,
   "metadata": {
    "id": "tpki82zDjkMK",
    "outputId": "50cb7d93-01b4-416e-d507-87ddd0984fd5"
   },
   "outputs": [],
   "source": [
    "sns.countplot(x=df['Age'])"
   ]
  },
  {
   "cell_type": "markdown",
   "metadata": {
    "id": "3c31V_yks-6y"
   },
   "source": [
    "Do đó, ở đây mình sẽ dùng hàm `histplot` của thư viện `seaborn` để phân tích. Trong đó, cần phải truyền vào:\n",
    "* Tham số `x` là cột `Age`\n",
    "* Tham số `hue` là cột `Survived`\n",
    "* Tham số `kde`=`True`: tham số để phân tích dạng đường phân bố liên tục.\n",
    "\n",
    "Kết quả của việc phân tích này được lưu vào biến `check1_sv` = `sns.histplot(...)`.\n",
    "\n",
    "\n",
    "\n",
    "\n"
   ]
  },
  {
   "cell_type": "code",
   "execution_count": null,
   "metadata": {
    "id": "HD-y1ioWjkMK",
    "outputId": "53f1e860-ed70-403a-f9be-37dbd5d38dcb"
   },
   "outputs": [],
   "source": [
    "plt.figure(figsize=(12, 12))\n",
    "### BEGIN SOLUTION\n",
    "check1_sv = sns.histplot(x = df['Age'], hue = df['Survived'], kde = True)\n",
    "### END SOLUTION\n",
    "\n",
    "plt.savefig('part_2.png')"
   ]
  },
  {
   "cell_type": "markdown",
   "metadata": {
    "id": "XxfUcn3muBve"
   },
   "source": [
    "**Nhận xét**: Ta có thể nhận xét, từ khoảng 0 đến 10 tuổi thì tỉ lệ sống sót cao hơn tỉ lệ mất."
   ]
  },
  {
   "cell_type": "markdown",
   "metadata": {
    "id": "iaK6au-yuaWV"
   },
   "source": [
    "Tương tự, ta sẽ phân tích cột `Fare` so với cột output `Survived`:"
   ]
  },
  {
   "cell_type": "code",
   "execution_count": null,
   "metadata": {
    "id": "J8nucQIUjkMK",
    "outputId": "12875e4f-80b2-42dc-9e48-13ac71150b8f"
   },
   "outputs": [],
   "source": [
    "sns.histplot(x=df['Fare'], hue=df['Survived'], kde=True);"
   ]
  },
  {
   "cell_type": "markdown",
   "metadata": {
    "id": "bCen_0BFulYg"
   },
   "source": [
    "**Nhận xét**: Ta thấy nó khá khó nhìn nên ta sẽ dùng phương pháp binning Quantile.\n",
    "\n",
    "Do đó, ta sẽ dùng hàm `countplot` của `Seaborn` để phân tích. Trong đó, cần phải truyền vào:\n",
    "* Tham số `x`=`bins`, với `bins` là kết quả của quá trình binning (đã được cung cấp)\n",
    "* Tham số `hue`= cột `Survived`\n",
    "\n",
    "Kết quả của phân tích này ta lưu vào biến `check2_sv`."
   ]
  },
  {
   "cell_type": "code",
   "execution_count": null,
   "metadata": {
    "id": "IRY5g-jYjkML",
    "outputId": "b377a2fc-9760-4821-8490-0c2fa085beaa"
   },
   "outputs": [],
   "source": [
    "labels = ['Cheap', 'Expensive', 'Luxury']\n",
    "bins = pd.qcut(df['Fare'], 3, labels=labels)\n",
    "sns.countplot(x=bins)\n",
    "\n",
    "plt.figure(figsize=(12,12))\n",
    "\n",
    "### BEGIN SOLUTION\n",
    "check2_sv = sns.countplot(x=bins, hue=df['Survived'])\n",
    "### END SOLUTION\n",
    "\n",
    "plt.savefig('part_3.png')"
   ]
  },
  {
   "cell_type": "markdown",
   "metadata": {},
   "source": [
    "**Nhận xét:** Ta nhận thấy ở mức giá vé cao hơn thì tỉ lệ sống sót sẽ được tăng mạnh"
   ]
  },
  {
   "cell_type": "markdown",
   "metadata": {
    "id": "Xma8BmCTjkML"
   },
   "source": [
    "## 2. Tính toán Correlation"
   ]
  },
  {
   "cell_type": "markdown",
   "metadata": {},
   "source": [
    "Ta xem lại dataframe và xem dataframe bị khuyết bao nhiêu dữ liệu"
   ]
  },
  {
   "cell_type": "code",
   "execution_count": null,
   "metadata": {},
   "outputs": [],
   "source": [
    "df"
   ]
  },
  {
   "cell_type": "code",
   "execution_count": 14,
   "metadata": {},
   "outputs": [
    {
     "data": {
      "text/plain": [
       "PassengerId      0\n",
       "Survived         0\n",
       "Pclass           0\n",
       "Name             0\n",
       "Sex              0\n",
       "Age            177\n",
       "SibSp            0\n",
       "Parch            0\n",
       "Fare             0\n",
       "Embarked         2\n",
       "dtype: int64"
      ]
     },
     "execution_count": 14,
     "metadata": {},
     "output_type": "execute_result"
    }
   ],
   "source": [
    "df.isna().sum()"
   ]
  },
  {
   "cell_type": "markdown",
   "metadata": {},
   "source": [
    "* Ta sẽ phải xoá đi cột `PassengerId` và cột `Name` vì 2 cột này sẽ không thể ảnh hưởng đến việc sống hoặc chết\n",
    "* Ở khuôn khổ bài này, ta tạm thời không nói đến việc điền khuyết dữ liệu trống, nên những dòng bị khuyết dữ liệu, ta xoá đi\n",
    "* Ta dùng kĩ thuật Ordinal Encoding ở cột `Sex` và `Embarked`"
   ]
  },
  {
   "cell_type": "code",
   "execution_count": 15,
   "metadata": {},
   "outputs": [],
   "source": [
    "### BEGIN SOLUTION\n",
    "from sklearn.preprocessing import OrdinalEncoder\n",
    "\n",
    "# Xóa cột 'PassengerId' và 'Name'\n",
    "df.drop(['PassengerId', 'Name'], axis=1, inplace=True)\n",
    "\n",
    "# Xóa các dòng có dữ liệu trống\n",
    "df.dropna(inplace=True)\n",
    "\n",
    "# Áp dụng Ordinal Encoder cho cột Sex và Embarked\n",
    "encoder = OrdinalEncoder()\n",
    "df[['Sex', 'Embarked']] = encoder.fit_transform(df[['Sex', 'Embarked']])\n",
    "\n",
    "### END SOLUTION"
   ]
  },
  {
   "cell_type": "markdown",
   "metadata": {},
   "source": [
    "Mục đích của việc làm trên là để biến dữ liệu dạng category thành numerical và bỏ hết giá trị NaN để tính toán correlation giữa các feature"
   ]
  },
  {
   "cell_type": "code",
   "execution_count": null,
   "metadata": {},
   "outputs": [],
   "source": [
    "heatmap_val = df.corr()\n",
    "heatmap_val"
   ]
  },
  {
   "cell_type": "markdown",
   "metadata": {},
   "source": [
    "Ta dùng hàm `heatmap` của thư viện `seaborn` để vẽ heatmap."
   ]
  },
  {
   "cell_type": "code",
   "execution_count": null,
   "metadata": {
    "id": "3AKUEcYVjkMM",
    "outputId": "88988223-d9fe-46d6-e15a-3e3bcec07b32"
   },
   "outputs": [],
   "source": [
    "plt.figure(figsize=(12,12))\n",
    "### BEGIN SOLUTION\n",
    "\n",
    "features = [\"Age\", \"Embarked\", \"Fare\", \"Parch\", \"Pclass\", \"Sex\", \"SibSp\", \"Survived\"]\n",
    "heatmap_val = df[features].corr()\n",
    "sns.heatmap(heatmap_val, annot=True)\n",
    "\n",
    "### END SOLUTION\n",
    "\n",
    "plt.savefig('part_4.png')"
   ]
  },
  {
   "cell_type": "markdown",
   "metadata": {},
   "source": [
    "Không ngoài dự đoán, 2 feature `SibSp` và `Parch` có độ tương đồng cao nhất (0.38) trong các feature"
   ]
  }
 ],
 "metadata": {
  "colab": {
   "provenance": []
  },
  "kernelspec": {
   "display_name": "Python 3 (ipykernel)",
   "language": "python",
   "name": "python3"
  },
  "language_info": {
   "codemirror_mode": {
    "name": "ipython",
    "version": 3
   },
   "file_extension": ".py",
   "mimetype": "text/x-python",
   "name": "python",
   "nbconvert_exporter": "python",
   "pygments_lexer": "ipython3",
   "version": "3.11.4"
  }
 },
 "nbformat": 4,
 "nbformat_minor": 4
}
