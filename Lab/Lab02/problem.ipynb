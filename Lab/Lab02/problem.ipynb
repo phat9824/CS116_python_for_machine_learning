{
 "cells": [
  {
   "cell_type": "markdown",
   "metadata": {
    "id": "oRTqA-dmfpMO"
   },
   "source": [
    "# EDA: PHÂN TÍCH ĐƠN BIẾN\n",
    "\n",
    "**Phân tích đơn biến** là một phương pháp cơ bản trong phân tích dữ liệu, liên quan đến việc nghiên cứu và tổng hợp một biến duy nhất tại một thời điểm. Nó giúp chúng ta hiểu về phân phối, trung bình và biến đổi của từng biến trong tập dữ liệu.\n",
    "\n",
    "Trong Jupyter Notebook này, chúng ta sẽ tiến hành **phân tích đơn biến** trên **bộ dữ liệu Iris**. Bộ dữ liệu Iris là một bộ dữ liệu nổi tiếng, chứa thông tin về bốn thuộc tính: chiều dài đài hoa, chiều rộng đài hoa, chiều dài cánh hoa và chiều rộng cánh hoa, cho ba loại hoa iris khác nhau: setosa, versicolor và virginica. Mục tiêu của phân tích này là khám phá từng thuộc tính một cách độc lập và biểu đạt đặc điểm của chúng bằng cách sử dụng nhiều loại biểu đồ khác nhau.\n",
    "\n",
    "Trong suốt notebook này, sẽ hướng dẫn bạn qua một số bài tập, mỗi bài tập tập trung vào một khía cạnh cụ thể của phân tích đơn biến:\n",
    "1. Vẽ biểu đồ histogram về chiều dài đài hoa.\n",
    "2. Tạo biểu đồ hộp (box plot) cho chiều rộng cánh hoa.\n",
    "3. Tạo biểu đồ mật độ ước tính hạt nhân (KDE) cho chiều rộng đài hoa.\n",
    "4. Tạo biểu đồ đếm cho biến \"target\".\n",
    "5. Xây dựng biểu đồ violon cho chiều dài cánh hoa.\n",
    "\n",
    "Hãy cùng bắt đầu với các bài tập và khám phá những thông tin ẩn trong bộ dữ liệu Iris!\n"
   ]
  },
  {
   "cell_type": "markdown",
   "metadata": {
    "id": "GUxasRxzfpMS"
   },
   "source": [
    "### 1. Tải dữ liệu"
   ]
  },
  {
   "cell_type": "code",
   "execution_count": 1,
   "metadata": {
    "id": "qNgOx3EqfpMT"
   },
   "outputs": [],
   "source": [
    "# Import những thư viện cần thiết\n",
    "import numpy as np\n",
    "import pandas as pd\n",
    "import matplotlib.pyplot as plt\n",
    "import seaborn as sns\n",
    "from sklearn.datasets import load_iris\n",
    "from PIL import Image\n",
    "from io import BytesIO"
   ]
  },
  {
   "cell_type": "code",
   "execution_count": 2,
   "metadata": {
    "colab": {
     "base_uri": "https://localhost:8080/",
     "height": 206
    },
    "id": "PrfGlJENfpMU",
    "outputId": "961231cb-784f-4b97-f101-f24d970cdc89"
   },
   "outputs": [
    {
     "data": {
      "text/html": [
       "<div>\n",
       "<style scoped>\n",
       "    .dataframe tbody tr th:only-of-type {\n",
       "        vertical-align: middle;\n",
       "    }\n",
       "\n",
       "    .dataframe tbody tr th {\n",
       "        vertical-align: top;\n",
       "    }\n",
       "\n",
       "    .dataframe thead th {\n",
       "        text-align: right;\n",
       "    }\n",
       "</style>\n",
       "<table border=\"1\" class=\"dataframe\">\n",
       "  <thead>\n",
       "    <tr style=\"text-align: right;\">\n",
       "      <th></th>\n",
       "      <th>sepal length (cm)</th>\n",
       "      <th>sepal width (cm)</th>\n",
       "      <th>petal length (cm)</th>\n",
       "      <th>petal width (cm)</th>\n",
       "      <th>target</th>\n",
       "    </tr>\n",
       "  </thead>\n",
       "  <tbody>\n",
       "    <tr>\n",
       "      <th>0</th>\n",
       "      <td>5.1</td>\n",
       "      <td>3.5</td>\n",
       "      <td>1.4</td>\n",
       "      <td>0.2</td>\n",
       "      <td>0.0</td>\n",
       "    </tr>\n",
       "    <tr>\n",
       "      <th>1</th>\n",
       "      <td>4.9</td>\n",
       "      <td>3.0</td>\n",
       "      <td>1.4</td>\n",
       "      <td>0.2</td>\n",
       "      <td>0.0</td>\n",
       "    </tr>\n",
       "    <tr>\n",
       "      <th>2</th>\n",
       "      <td>4.7</td>\n",
       "      <td>3.2</td>\n",
       "      <td>1.3</td>\n",
       "      <td>0.2</td>\n",
       "      <td>0.0</td>\n",
       "    </tr>\n",
       "    <tr>\n",
       "      <th>3</th>\n",
       "      <td>4.6</td>\n",
       "      <td>3.1</td>\n",
       "      <td>1.5</td>\n",
       "      <td>0.2</td>\n",
       "      <td>0.0</td>\n",
       "    </tr>\n",
       "    <tr>\n",
       "      <th>4</th>\n",
       "      <td>5.0</td>\n",
       "      <td>3.6</td>\n",
       "      <td>1.4</td>\n",
       "      <td>0.2</td>\n",
       "      <td>0.0</td>\n",
       "    </tr>\n",
       "  </tbody>\n",
       "</table>\n",
       "</div>"
      ],
      "text/plain": [
       "   sepal length (cm)  sepal width (cm)  petal length (cm)  petal width (cm)  \\\n",
       "0                5.1               3.5                1.4               0.2   \n",
       "1                4.9               3.0                1.4               0.2   \n",
       "2                4.7               3.2                1.3               0.2   \n",
       "3                4.6               3.1                1.5               0.2   \n",
       "4                5.0               3.6                1.4               0.2   \n",
       "\n",
       "   target  \n",
       "0     0.0  \n",
       "1     0.0  \n",
       "2     0.0  \n",
       "3     0.0  \n",
       "4     0.0  "
      ]
     },
     "execution_count": 2,
     "metadata": {},
     "output_type": "execute_result"
    }
   ],
   "source": [
    "# Tải dữ liệu hoa Iris\n",
    "iris = load_iris()\n",
    "\n",
    "df = pd.DataFrame(\n",
    "    data=np.c_[iris[\"data\"], iris[\"target\"]],\n",
    "    columns=iris[\"feature_names\"] + [\"target\"]\n",
    ")\n",
    "# Xem qua dữ liệu\n",
    "df.head()"
   ]
  },
  {
   "cell_type": "markdown",
   "metadata": {
    "id": "n3aRjBALfpMV"
   },
   "source": [
    "### 2. Bài tập vẽ biểu đồ"
   ]
  },
  {
   "cell_type": "markdown",
   "metadata": {
    "id": "1n310IY2fpMV"
   },
   "source": [
    "**Bài tập**: Hãy sử dụng thư viện sns để tạo một histogram đối với feature ***sepal length (cm)***\n",
    "với các tham số như sau:\n",
    "\n",
    "- ***figsize***: (8, 6)\n",
    "- ***title***: \"Histogram of Sepal Length\"\n",
    "- ***xlabel***: \"Sepal Length (cm)\"\n",
    "- ***ylable***: \"Frequency\"\n",
    "\n",
    "Lưu ý: Không thêm bất kỳ tùy chỉnh nào khác cho biểu đồ để thuận tiện cho việc chấm tự động."
   ]
  },
  {
   "cell_type": "code",
   "execution_count": null,
   "metadata": {
    "colab": {
     "base_uri": "https://localhost:8080/",
     "height": 564
    },
    "id": "najHo6N8fpMV",
    "outputId": "0a913b1e-5232-4114-fe81-a1505c39906a"
   },
   "outputs": [],
   "source": [
    "plt.figure(figsize=(8, 6))\n",
    "\n",
    "### BEGIN SOLUTION\n",
    "\n",
    "\n",
    "\n",
    "\n",
    "### END SOLUTION\n",
    "\n",
    "plt.savefig('part_1.png')"
   ]
  },
  {
   "cell_type": "code",
   "execution_count": null,
   "metadata": {
    "colab": {
     "base_uri": "https://localhost:8080/",
     "height": 545
    },
    "id": "hEQA7PMYfpMX",
    "outputId": "54af6bdf-6cb8-4a63-8d7d-e923a8683347"
   },
   "outputs": [],
   "source": [
    "plt.figure(figsize=(8, 6))\n",
    "\n",
    "### BEGIN SOLUTION\n",
    "\n",
    "\n",
    "\n",
    "### END SOLUTION\n",
    "\n",
    "plt.savefig('part_2.png')"
   ]
  },
  {
   "cell_type": "markdown",
   "metadata": {
    "id": "w17mq_Q1fpMX"
   },
   "source": [
    "**Bài tập**: Hãy sử dụng thư viện seaborn để tạo một kernel density plot (kde) đối với feature ***sepal width (cm)*** với các tham số như sau:\n",
    "\n",
    "- ***figsize***: (8, 6)\n",
    "- ***title***: \"Kernel Density Estimate of Sepal Width\"\n",
    "- ***xlabel***: \"Sepal Width (cm)\"\n",
    "- ***ylabel***: \"Density\"\n",
    "\n",
    "Lưu ý: Không thêm bất kỳ tùy chỉnh nào khác cho biểu đồ để thuận tiện cho việc chấm tự động."
   ]
  },
  {
   "cell_type": "code",
   "execution_count": null,
   "metadata": {
    "colab": {
     "base_uri": "https://localhost:8080/",
     "height": 564
    },
    "id": "e5NmHkaafpMZ",
    "outputId": "4f8dbcb9-8c9d-4eff-87ad-5f7865b57d17"
   },
   "outputs": [],
   "source": [
    "plt.figure(figsize=(8, 6))\n",
    "\n",
    "### BEGIN SOLUTION\n",
    "\n",
    "\n",
    "\n",
    "\n",
    "### END SOLUTION\n",
    "\n",
    "plt.savefig('part_3.png')"
   ]
  },
  {
   "cell_type": "markdown",
   "metadata": {
    "id": "80SIDogQfpMb"
   },
   "source": [
    "**Bài tập**: Hãy sử dụng thư viện seaborn để tạo count plot đối với feature ***target***\n",
    "với các tham số như sau:\n",
    "- ***figsize***: (8, 6)\n",
    "- ***title***: \"Count Plot of Target Classes\"\n",
    "- ***xlabel***: \"Target Class\"\n",
    "- ***ylabel***: \"Count\"\n",
    "Lưu ý: Không thêm bất kỳ tùy chỉnh nào khác cho biểu đồ để thuận tiện cho việc chấm tự động."
   ]
  },
  {
   "cell_type": "code",
   "execution_count": null,
   "metadata": {
    "colab": {
     "base_uri": "https://localhost:8080/",
     "height": 564
    },
    "id": "NjXuPcxYfpMb",
    "outputId": "edf0f59e-30d4-4210-b2ae-599c78fc479c"
   },
   "outputs": [],
   "source": [
    "plt.figure(figsize=(8, 6))\n",
    "\n",
    "### BEGIN SOLUTION\n",
    "\n",
    "\n",
    "\n",
    "\n",
    "### END SOLUTION\n",
    "\n",
    "plt.savefig('part_4.png')"
   ]
  },
  {
   "cell_type": "markdown",
   "metadata": {
    "id": "yNTMWN_9fpMb"
   },
   "source": [
    "**Bài tập**: Hãy sử dụng thư viện seaborn để tạo violin plot cho feature ***petal length*** cho mỗi feature ***target*** với các tham số như sau:\n",
    "\n",
    "- ***figsize***: (8, 6)\n",
    "- ***title***: \"Violin Plot of Petal Length\"\n",
    "- ***ylabel***: \"Petal Length (cm)\"\n",
    "\n",
    "Lưu ý: Không thêm bất kỳ tùy chỉnh nào khác cho biểu đồ để thuận tiện cho việc chấm tự động."
   ]
  },
  {
   "cell_type": "code",
   "execution_count": null,
   "metadata": {
    "colab": {
     "base_uri": "https://localhost:8080/",
     "height": 564
    },
    "id": "LdNTOCaJfpMc",
    "outputId": "1f74e361-43ef-458a-c80c-a4e61381e850"
   },
   "outputs": [],
   "source": [
    "plt.figure(figsize=(8, 6))\n",
    "\n",
    "### BEGIN SOLUTION\n",
    "\n",
    "\n",
    "\n",
    "### END SOLUTION\n",
    "\n",
    "plt.savefig('part_5.png')"
   ]
  },
  {
   "cell_type": "markdown",
   "metadata": {
    "id": "bj3gXXHhfpMc"
   },
   "source": [
    "# Bài Tập Để Kiểm Tra Hiểu Biết\n",
    "\n",
    "Chúng ta đã hoàn thành các bước phân tích đơn biến trên bộ dữ liệu Iris. Hãy thử kiểm tra hiểu biết của bạn bằng cách trả lời câu hỏi sau:\n",
    "\n",
    "1. Phân tích đơn biến liên quan đến việc nghiên cứu:\n",
    "\n",
    "   a) Một biến duy nhất\n",
    "\n",
    "   b) Hai biến liên quan\n",
    "\n",
    "   c) Nhiều biến cùng lúc\n",
    "\n",
    "\n",
    "2. Biểu đồ nào thường được sử dụng để biểu diễn phân phối của một biến số?\n",
    "\n",
    "   a) Biểu đồ hộp (box plot)\n",
    "\n",
    "   b) Biểu đồ violin\n",
    "\n",
    "   c) Biểu đồ histogram\n",
    "\n",
    "3. Biểu đồ nào thể hiện mật độ ước tính hạt nhân của một biến số?\n",
    "\n",
    "   a) Biểu đồ hộp (box plot)\n",
    "\n",
    "   b) Biểu đồ violin\n",
    "\n",
    "   c) Biểu đồ KDE (kernel density estimate)\n",
    "\n",
    "4. Để biểu thị số lượng mẫu thuộc từng lớp trong bộ dữ liệu phân loại, ta sử dụng loại biểu đồ nào?\n",
    "\n",
    "   a) Biểu đồ hộp (box plot)\n",
    "\n",
    "   b) Biểu đồ count\n",
    "\n",
    "   c) Biểu đồ violin\n",
    "\n",
    "5. Biểu đồ violin thường kết hợp giữa biểu đồ nào và biểu đồ nào?\n",
    "\n",
    "   a) Histogram và bar plot\n",
    "\n",
    "   b) Box plot và histogram\n",
    "   \n",
    "   c) Box plot và KDE plot\n"
   ]
  },
  {
   "cell_type": "code",
   "execution_count": 13,
   "metadata": {
    "id": "pFZnfDBffpMd"
   },
   "outputs": [],
   "source": [
    "# Trả lời theo định dạng mẫu sau, thay dấu chấm hỏi \"?\" bằng \"a\" hoặc \"b\" hoặc \"c\" theo lựa chọn của bạn\n",
    "student_answers = ['?', '?', '?', '?', '?']"
   ]
  }
 ],
 "metadata": {
  "colab": {
   "provenance": []
  },
  "kernelspec": {
   "display_name": "Python 3 (ipykernel)",
   "language": "python",
   "name": "python3"
  },
  "language_info": {
   "codemirror_mode": {
    "name": "ipython",
    "version": 3
   },
   "file_extension": ".py",
   "mimetype": "text/x-python",
   "name": "python",
   "nbconvert_exporter": "python",
   "pygments_lexer": "ipython3",
   "version": "3.11.5"
  }
 },
 "nbformat": 4,
 "nbformat_minor": 4
}
